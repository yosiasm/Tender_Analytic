{
 "cells": [
  {
   "cell_type": "code",
   "execution_count": 1,
   "metadata": {},
   "outputs": [],
   "source": [
    "import dash\n",
    "import dash_table\n",
    "import dash_core_components as dcc\n",
    "import dash_html_components as html\n",
    "import plotly.graph_objs as go\n",
    "import numpy as np\n",
    "import pandas as pd\n",
    "from dash.dependencies import Input, Output, State\n",
    "import re"
   ]
  },
  {
   "cell_type": "code",
   "execution_count": 2,
   "metadata": {},
   "outputs": [],
   "source": [
    "#app=dash.Dash(__name__)"
   ]
  },
  {
   "cell_type": "code",
   "execution_count": 3,
   "metadata": {},
   "outputs": [],
   "source": [
    "df = pd.read_csv('data sirup update.csv')\n",
    "df=df.drop(columns=['Unnamed: 0'])\n",
    "\n",
    "d = {'Barang, ':'Barang',\n",
    "     'Jasa Lainnya, ':'Jasa Lainnya',\n",
    "     'Jasa Konsultansi, ':'Jasa Konsultansi',\n",
    "     'Pekerjaan Konstruksi, ': 'Jasa Konstruksi'}\n",
    "df = df.replace(d)\n",
    "\n",
    "\n",
    "tabel_jumlah_tender_tahun2020=df[['nama','waktu']].loc[df['waktu'] != '2021-01-01'].loc[df['waktu'] != '2023-10-01'].loc[df['waktu'] != '2023-04-01'].groupby(['waktu'],as_index=False).count()\n",
    "tabel_jumlah_tender_tahun2020.rename(columns = {'nama':'Jumlah Tender'}, inplace = True)\n",
    "\n",
    "tabel1=pd.read_csv('tabel instansi_hps_kategori.csv')\n",
    "tabel1[['Jasa Konsultansi Badan Usaha', 'Jasa Konsultansi Perorangan','Pekerjaan Konstruksi', 'Pengadaan Barang', 'Jasa Lainnya']].astype(int)\n",
    "\n",
    "tabel2=pd.read_csv('tabel instansi_metode.csv')\n",
    "\n",
    "tabel1 = tabel1.sort_values('hps_mean',ascending=False)\n",
    "tabel1_graph_kategori = tabel1.sort_values('jumlah_tender',ascending=False)"
   ]
  },
  {
   "cell_type": "markdown",
   "metadata": {},
   "source": [
    "## Rata-rata hps tiap instansi"
   ]
  },
  {
   "cell_type": "code",
   "execution_count": 4,
   "metadata": {},
   "outputs": [],
   "source": [
    "hps_rata2 = dcc.Graph(id='chart-hps',\n",
    "              figure={\n",
    "                  'data':[{'y': tabel1.instansi.head(10),'x':tabel1.hps_mean.head(10), 'type' : 'bar','orientation': 'h', 'name':'first-chart'}],\n",
    "                  'layout':{'title':'Top 10 Rata-Rata HPS Tiap Instansi'}\n",
    "              })"
   ]
  },
  {
   "cell_type": "markdown",
   "metadata": {},
   "source": [
    "## Perbandingan Instansi dg jml tender by kategori"
   ]
  },
  {
   "cell_type": "code",
   "execution_count": 5,
   "metadata": {},
   "outputs": [],
   "source": [
    "perbandingan_jml_tender = dcc.Graph(id='chart-jumlah-tender',\n",
    "              figure={\n",
    "                  'data':[{'x': tabel1_graph_kategori.instansi.head(10),'y':tabel1_graph_kategori.jumlah_tender.head(10), 'type' : 'bar', 'name':'jumlah-tender'},\n",
    "                         {'x': tabel1_graph_kategori.instansi.head(10),'y':tabel1_graph_kategori['Jasa Konsultansi Badan Usaha'].head(10), 'type' : 'bar', 'name':'jasa-konsultansi-badan-usaha'},\n",
    "                         {'x': tabel1_graph_kategori.instansi.head(10),'y':tabel1_graph_kategori['Jasa Konsultansi Perorangan'].head(10), 'type' : 'bar', 'name':'jasa-konsultansi-perorangan'},\n",
    "                         {'x': tabel1_graph_kategori.instansi.head(10),'y':tabel1_graph_kategori['Pekerjaan Konstruksi'].head(10), 'type' : 'bar', 'name':'pekerjaan-konstruksi'},\n",
    "                         {'x': tabel1_graph_kategori.instansi.head(10),'y':tabel1_graph_kategori['Pengadaan Barang'].head(10), 'type' : 'bar', 'name':'pengadaa-barang'},\n",
    "                         {'x': tabel1_graph_kategori.instansi.head(10),'y':tabel1_graph_kategori['Jasa Lainnya'].head(10), 'type' : 'bar', 'name':'jasa-lainnya'}],\n",
    "                  'layout':{'title':'Perbandingan Instansi dengan Jumlah Tender Berdasarkan Kategori'}\n",
    "              })"
   ]
  },
  {
   "cell_type": "markdown",
   "metadata": {},
   "source": [
    "## Jumlah tender 2020"
   ]
  },
  {
   "cell_type": "code",
   "execution_count": 6,
   "metadata": {},
   "outputs": [],
   "source": [
    "jumlah_tender = dcc.Graph(id='chart-2020',\n",
    "             figure={'data':[go.Scatter(x=tabel_jumlah_tender_tahun2020['waktu'],\n",
    "                                       y=tabel_jumlah_tender_tahun2020['Jumlah Tender'])\n",
    "                            ],\n",
    "                    'layout':go.Layout(title='JUMLAH TENDER 2020',\n",
    "                                      xaxis={'title':'Bulan Tahun'},\n",
    "                                      yaxis={'title':'Jumlah Tender'})})"
   ]
  },
  {
   "cell_type": "markdown",
   "metadata": {},
   "source": [
    "## Tabel tender"
   ]
  },
  {
   "cell_type": "code",
   "execution_count": 7,
   "metadata": {},
   "outputs": [],
   "source": [
    "tender_kolom=['metode', 'nama', 'instansi', 'lokasi', 'jenis', 'waktu',\n",
    "        'id', 'pagu', 'satuanKerja']\n",
    "tabel_tender = dash_table.DataTable(id='table',\n",
    "                         columns=[{\"name\": i.title(), \"id\": i} for i in tender_kolom],\n",
    "                         data=df.to_dict('records'), page_size=8, style_table={'overflowX': 'scroll'},\n",
    "                         sort_action='native', selected_columns=[], selected_rows=[],\n",
    "                         filter_action=\"native\", sort_mode=\"multi\", column_selectable=\"single\",\n",
    "                         #title = 'TABLE TENDER TAHUN 2020'\n",
    "                        )"
   ]
  },
  {
   "cell_type": "markdown",
   "metadata": {},
   "source": [
    "## Cari tender"
   ]
  },
  {
   "cell_type": "code",
   "execution_count": 8,
   "metadata": {},
   "outputs": [],
   "source": [
    "def list_tender(keyword_tender,pagu,instansi):\n",
    "    #filter nama tender\n",
    "    tender = str(keyword_tender)\n",
    "    matches = tender.split()\n",
    "    safe_matches = [re.escape(m) for m in matches]\n",
    "    result = df[df['nama'].astype(str).str.contains('|'.join(safe_matches),case=False)].head(10)\n",
    "    \n",
    "    #filter instansi\n",
    "    instansi = str(instansi)\n",
    "    matches = instansi.split()\n",
    "    safe_matches = [re.escape(m) for m in matches]\n",
    "    result_instansi = result[result['instansi'].astype(str).str.contains('|'.join(safe_matches),case=False)]\n",
    "    style_instansi={}\n",
    "    if len(result_instansi) == 0:\n",
    "        result_instansi = result\n",
    "        style_instansi = {'color':'red'}\n",
    "    \n",
    "    #filter pagu\n",
    "    style_pagu = {}\n",
    "    result_pagu = result_instansi[result['pagu']<=int(pagu)].head(10)\n",
    "    if len(result_pagu) == 0:\n",
    "        result_pagu = result\n",
    "        style_pagu = {'color':'red'}\n",
    "    \n",
    "    \n",
    "    div = []\n",
    "    for index,row in result_pagu.iterrows():\n",
    "        #print(result)\n",
    "        div.append(\n",
    "            html.Div([\n",
    "                html.Table([\n",
    "                    html.Td([\n",
    "                        html.Div([html.A(row['nama'], href='/'+str(row['id']), target='_blank')]),\n",
    "                        #html.H4(row['nama']),\n",
    "                        html.Div(row['instansi'],style=style_instansi),\n",
    "                        html.Div(row['satuanKerja']),\n",
    "\n",
    "                        html.Div('Pagu : '+str('Rp.{:,.2f}'.format(row['pagu'])) + ' Waktu: '+row['waktu'], style=style_pagu)\n",
    "                    ])\n",
    "                ])\n",
    "            ],style={'overflow':'auto'})\n",
    "        )\n",
    "    return div"
   ]
  },
  {
   "cell_type": "markdown",
   "metadata": {},
   "source": [
    "# Tabel "
   ]
  },
  {
   "cell_type": "code",
   "execution_count": 9,
   "metadata": {},
   "outputs": [
    {
     "name": "stdout",
     "output_type": "stream",
     "text": [
      "1.6.0\n"
     ]
    }
   ],
   "source": [
    "print(dcc.__version__) # 0.6.0 or above is required\n",
    "\n",
    "external_stylesheets = ['https://codepen.io/chriddyp/pen/bWLwgP.css']\n",
    "\n",
    "\n",
    "app = dash.Dash(__name__, external_stylesheets=external_stylesheets)\n",
    "\n",
    "# Since we're adding callbacks to elements that don't exist in the app.layout,\n",
    "# Dash will raise an exception to warn us that we might be\n",
    "# doing something wrong.\n",
    "# In this case, we're adding the elements through a callback, so we can ignore\n",
    "# the exception.\n",
    "app.config.suppress_callback_exceptions = True\n"
   ]
  },
  {
   "cell_type": "markdown",
   "metadata": {},
   "source": [
    "# Index"
   ]
  },
  {
   "cell_type": "code",
   "execution_count": 10,
   "metadata": {},
   "outputs": [],
   "source": [
    "app.layout = html.Div([\n",
    "    dcc.Location(id='url', refresh=False),\n",
    "    html.Div(id='page-content')\n",
    "])"
   ]
  },
  {
   "cell_type": "markdown",
   "metadata": {},
   "source": [
    "# Layout 1"
   ]
  },
  {
   "cell_type": "code",
   "execution_count": 11,
   "metadata": {},
   "outputs": [],
   "source": [
    "page_1_layout = html.Div([\n",
    "    #dcc.Link('Go to Page analisa', href='/analisa', target='_blank'),\n",
    "    #html.Div([html.A('Go to Page analisa', href='/analisa', target='_blank')]),\n",
    "    #dcc.Input(id='my-id', value='initial value', type='text'),\n",
    "    \n",
    "    html.Div([\n",
    "            # Filter tender\n",
    "            html.Div([\n",
    "                html.Div('Keyword Tender', className='three columns'),\n",
    "                html.Div(dcc.Input(id='keyword_tender',\n",
    "                                     value='tender', type='text' ),\n",
    "                         className='nine columns')\n",
    "            ]),\n",
    "\n",
    "            # Filter pagu\n",
    "            html.Div([\n",
    "                html.Div('Pagu Maksimal', className='three columns'),\n",
    "                html.Div(dcc.Input(id='pagu',\n",
    "                                     value='100000000', type='number' ),\n",
    "                         className='nine columns')\n",
    "            ]),\n",
    "\n",
    "            # Filter instansi\n",
    "            html.Div([\n",
    "                html.Div('Instansi', className='three columns'),\n",
    "                html.Div(dcc.Input(id='instansi',\n",
    "                                     value='nama instansi', type='text' ),\n",
    "                         className='nine columns')\n",
    "            ]),\n",
    "            \n",
    "            html.Div(id='my-div', className='six columns')\n",
    "        ], className='six columns'),\n",
    "    html.Div([\n",
    "        hps_rata2,\n",
    "        jumlah_tender\n",
    "    ], style={'columnCount': 1}),\n",
    "    \n",
    "    \n",
    "    \n",
    "    perbandingan_jml_tender,\n",
    "    #tabel_tender\n",
    "]) \n",
    "\n"
   ]
  },
  {
   "cell_type": "code",
   "execution_count": 12,
   "metadata": {},
   "outputs": [],
   "source": [
    "@app.callback(\n",
    "    Output(component_id='my-div', component_property='children'),\n",
    "    [Input(component_id='keyword_tender', component_property='value'),\n",
    "    Input(component_id='pagu', component_property='value'),\n",
    "    Input(component_id='instansi', component_property='value')]\n",
    ")\n",
    "def update_output_div(keyword_tender,pagu,instansi):\n",
    "    return list_tender(keyword_tender,pagu,instansi)"
   ]
  },
  {
   "cell_type": "markdown",
   "metadata": {},
   "source": [
    "# Histori Tender"
   ]
  },
  {
   "cell_type": "code",
   "execution_count": 13,
   "metadata": {},
   "outputs": [],
   "source": [
    "histori_tender = pd.read_csv('rekomendasi harga penawaran.csv')\n",
    "histori_tender = histori_tender.drop(['Unnamed: 0','npwp_pemenang',\n",
    "                                          'hps','metode pascakualifikasi','metode pemilihan','9','10','11','12','13',\n",
    "                                         'metode evaluasi','kategori','kategori.1','pagu','hps_detail',\n",
    "                                         'alamat_pemenang','penawaran_pemenang','preprocessing','rekomendasi_harga_penawaran'],axis=1)\n",
    "histori_tender = histori_tender[histori_tender['status_tender']=='Tender Sudah Selesai']\n",
    "histori_tender['nama_tender'] = pd.DataFrame({'nama_tender':[kata.rsplit('<')[0].lower() for kata in histori_tender['nama_tender']]})\n",
    "def list_histori_tender(instansi):\n",
    "    #filter nama tender\n",
    "    ins = str(instansi)\n",
    "    matches = ins.split()\n",
    "    safe_matches = [re.escape(m) for m in matches]\n",
    "    result = histori_tender[histori_tender['instansi'].astype(str).str.contains('|'.join(safe_matches),case=False)].head(10)\n",
    "    #print(result)\n",
    "    div = [html.H2('Tender Terdahulu'),html.H4(instansi.values[0].title())]\n",
    "    for index,row in result.iterrows():\n",
    "        #print(result)\n",
    "        div.append(\n",
    "            html.Div([\n",
    "                html.Table([\n",
    "                    html.Td([\n",
    "                        html.Div([html.A(row['nama_tender'], href='https://lpse.lkpp.go.id/eproc4/lelang/'+str(row['kode'])+'/pengumumanlelang/', target='_blank')]),\n",
    "                        #html.H4(row['nama']),\n",
    "                        html.Div(row['kode']),\n",
    "                        html.Div(row['nama_pemenang']),\n",
    "                        html.Div('HPS : '+str('Rp.{:,.2f}'.format(row['hps_number']))),\n",
    "                        html.Div('Penawaran Pemenang : '+str('Rp.{:,.2f}'.format(row['hps_number'])))\n",
    "                        \n",
    "                    ])\n",
    "                ])\n",
    "            ],style={'overflow':'auto'})\n",
    "        )\n",
    "    print('histori')\n",
    "    return div"
   ]
  },
  {
   "cell_type": "markdown",
   "metadata": {},
   "source": [
    "# Rekomendasi Tender"
   ]
  },
  {
   "cell_type": "code",
   "execution_count": 15,
   "metadata": {},
   "outputs": [],
   "source": [
    "rekomendasi_tender = pd.read_csv('data sirup kmeans + lda.csv')\n",
    "def rekom_tender(kode):\n",
    "    #print(rekomendasi_tender['id'].values)\n",
    "    #id tender['kategori_kmeans']\n",
    "    kategori = rekomendasi_tender.loc[rekomendasi_tender['id']==kode[0]]['kategori_kmeans']\n",
    "    result = rekomendasi_tender[rekomendasi_tender['kategori_kmeans']==kategori.values[0]].head(10)\n",
    "    \n",
    "    div = [html.H2('Rekomendasi Tender')]\n",
    "    for index,row in result.iterrows():\n",
    "        #print(result)\n",
    "        div.append(\n",
    "            html.Div([\n",
    "                html.Table([\n",
    "                    html.Td([\n",
    "                        html.Div([html.A(row['nama'], href='/'+str(row['id']), target='_blank')]),\n",
    "                        #html.H4(row['nama']),\n",
    "                        html.Div(row['instansi']),\n",
    "                        html.Div(row['satuanKerja']),\n",
    "\n",
    "                        html.Div('Pagu : '+str('Rp.{:,.2f}'.format(row['pagu'])) + ' Waktu: '+str(row['waktu']))\n",
    "                    ])\n",
    "                ])\n",
    "            ],style={'overflow':'auto'})\n",
    "        )\n",
    "    return div"
   ]
  },
  {
   "cell_type": "markdown",
   "metadata": {},
   "source": [
    "# cari instansi"
   ]
  },
  {
   "cell_type": "code",
   "execution_count": 16,
   "metadata": {},
   "outputs": [],
   "source": [
    "def list_tender_instansi(instansi):\n",
    "    \n",
    "    #filter nama tender\n",
    "    ins = str(instansi)\n",
    "    matches = ins.split()\n",
    "    safe_matches = [re.escape(m) for m in matches]\n",
    "    result = df[df['instansi'].astype(str).str.contains('|'.join(safe_matches),case=False)].head(10)\n",
    "    print(instansi)\n",
    "    div = [html.H2('Tender Terbuka'),]\n",
    "    for index,row in result.iterrows():\n",
    "        #print(result)\n",
    "        div.append(\n",
    "            html.Div([\n",
    "                html.Table([\n",
    "                    html.Td([\n",
    "                        html.Div([html.A(row['nama'], href='/'+str(row['id']), target='_blank')]),\n",
    "                        #html.H4(row['nama']),\n",
    "                        html.Div(row['instansi']),\n",
    "                        html.Div(row['satuanKerja']),\n",
    "\n",
    "                        html.Div('Pagu : '+str('Rp.{:,.2f}'.format(row['pagu'])) + ' Waktu: '+row['waktu'])\n",
    "                    ])\n",
    "                ])\n",
    "            ],style={'overflow':'auto'})\n",
    "        )\n",
    "    return div"
   ]
  },
  {
   "cell_type": "markdown",
   "metadata": {},
   "source": [
    "# Layout 2"
   ]
  },
  {
   "cell_type": "code",
   "execution_count": 17,
   "metadata": {},
   "outputs": [],
   "source": [
    "def detail_tender(selected):\n",
    "    return [html.H2('Detail Tender'),\n",
    "        html.Tbody([\n",
    "            html.Tr([\n",
    "                html.Td('Nama Tender', colSpan=\"3\"),\n",
    "                html.Td(selected['nama'].astype(str).str.title())\n",
    "            ]),\n",
    "            html.Tr([\n",
    "                html.Td('Instansi', colSpan=\"3\"),\n",
    "                html.Td(selected['instansi'].astype(str).str.title())\n",
    "            ]),\n",
    "            html.Tr([\n",
    "                html.Td('Satuan Kerja', colSpan=\"3\"),\n",
    "                html.Td(selected['satuanKerja'].astype(str).str.title())\n",
    "            ]),\n",
    "            html.Tr([\n",
    "                html.Td('Nilai Pagu', colSpan=\"3\"),\n",
    "                html.Td(selected['pagu'].astype(str).str.title())\n",
    "            ]),\n",
    "            html.Tr([\n",
    "                html.Td('Lokasi', colSpan=\"3\"),\n",
    "                html.Td(selected['lokasi'].astype(str).str.title())\n",
    "            ]),\n",
    "            html.Tr([\n",
    "                html.Td('Jenis', colSpan=\"3\"),\n",
    "                html.Td(selected['jenis'].astype(str).str.title())\n",
    "            ]),\n",
    "            html.Tr([\n",
    "                html.Td('Metode', colSpan=\"3\"),\n",
    "                html.Td(selected['metode'].astype(str).str.title())\n",
    "            ])\n",
    "        ])]\n"
   ]
  },
  {
   "cell_type": "code",
   "execution_count": 18,
   "metadata": {},
   "outputs": [],
   "source": [
    "def page_2_layout(id_tender):\n",
    "    selected = df.loc[df['id']==int(id_tender)].head(1)\n",
    "    \n",
    "    \n",
    "    return html.Div([\n",
    "    dcc.Store(id='session', storage_type='session'),\n",
    "    \n",
    "    html.Table(\n",
    "        detail_tender(selected)\n",
    "    ),\n",
    "    html.Table(\n",
    "        rekom_tender(selected['id'].values)\n",
    "    ),\n",
    "    html.Table(\n",
    "        list_tender_instansi(selected['instansi'])\n",
    "    ),\n",
    "    html.Table(\n",
    "        list_histori_tender(selected['instansi'])\n",
    "    ),\n",
    "\n",
    "\n",
    "\n",
    "\n",
    "\n",
    "\n",
    "    html.H1('Page 2'),\n",
    "\n",
    "    html.Div(id='page-2-content'),\n",
    "    html.Br(),\n",
    "    dcc.Link('Go back to home', href='/')\n",
    "])\n",
    "\n",
    "# add a click to the appropriate store.\n",
    "@app.callback(Output('session', 'data'),\n",
    "                [Input('{}-button'.format('session'), 'n_clicks')],\n",
    "                [State('session', 'data')])\n",
    "def on_click(n_clicks, data):\n",
    "    if n_clicks is None:\n",
    "        # prevent the None callbacks is important with the store component.\n",
    "        # you don't want to update the store for nothing.\n",
    "        raise PreventUpdate\n",
    "\n",
    "    # Give a default data dict with 0 clicks if there's no data.\n",
    "    data = data or {'clicks': 0}\n",
    "\n",
    "    data['clicks'] = data['clicks'] + 1\n",
    "    return data\n",
    "\n",
    "# output the stored clicks in the table cell.\n",
    "@app.callback(Output('{}-clicks'.format('session'), 'children'),\n",
    "                # Since we use the data prop in an output,\n",
    "                # we cannot get the initial data on load with the data prop.\n",
    "                # To counter this, you can use the modified_timestamp\n",
    "                # as Input and the data as State.\n",
    "                # This limitation is due to the initial None callbacks\n",
    "                # https://github.com/plotly/dash-renderer/pull/81\n",
    "                [Input('session', 'modified_timestamp')],\n",
    "                [State('session', 'data')])\n",
    "def on_data(ts, data):\n",
    "    if ts is None:\n",
    "        raise PreventUpdate\n",
    "\n",
    "    data = data or {}\n",
    "\n",
    "    return data.get('clicks', 0)\n",
    "\n",
    "@app.callback(dash.dependencies.Output('page-2-content', 'children'),\n",
    "              [dash.dependencies.Input('page-2-radios', 'value')])\n",
    "def page_2_radios(value):\n",
    "    return 'You have selected \"{}\"'.format(value)"
   ]
  },
  {
   "cell_type": "markdown",
   "metadata": {},
   "source": [
    "# Route"
   ]
  },
  {
   "cell_type": "code",
   "execution_count": 19,
   "metadata": {},
   "outputs": [],
   "source": [
    "# Update the index\n",
    "@app.callback(dash.dependencies.Output('page-content', 'children'),\n",
    "              [dash.dependencies.Input('url', 'pathname')])\n",
    "def display_page(pathname):\n",
    "    if pathname == '/':\n",
    "        #return layout_grid\n",
    "        return page_1_layout\n",
    "    else:\n",
    "        id_tender = re.findall(\"\\d+\", pathname)\n",
    "        if len(id_tender)>0:\n",
    "            return page_2_layout(id_tender[0])\n",
    "        else:\n",
    "            return page_1_layout\n",
    "    # You could also return a 404 \"URL not found\" page here"
   ]
  },
  {
   "cell_type": "code",
   "execution_count": 20,
   "metadata": {},
   "outputs": [
    {
     "name": "stdout",
     "output_type": "stream",
     "text": [
      " * Serving Flask app \"__main__\" (lazy loading)\n",
      " * Environment: production\n",
      "   WARNING: This is a development server. Do not use it in a production deployment.\n",
      "   Use a production WSGI server instead.\n",
      " * Debug mode: off\n"
     ]
    },
    {
     "name": "stderr",
     "output_type": "stream",
     "text": [
      " * Running on http://127.0.0.1:4050/ (Press CTRL+C to quit)\n",
      "127.0.0.1 - - [31/Dec/2019 20:47:24] \"\u001b[37mGET / HTTP/1.1\u001b[0m\" 200 -\n",
      "127.0.0.1 - - [31/Dec/2019 20:47:24] \"\u001b[37mGET /_dash-layout HTTP/1.1\u001b[0m\" 200 -\n",
      "127.0.0.1 - - [31/Dec/2019 20:47:24] \"\u001b[37mGET /_dash-dependencies HTTP/1.1\u001b[0m\" 200 -\n",
      "127.0.0.1 - - [31/Dec/2019 20:47:24] \"\u001b[37mGET /_favicon.ico?v=1.7.0 HTTP/1.1\u001b[0m\" 200 -\n",
      "127.0.0.1 - - [31/Dec/2019 20:47:24] \"\u001b[37mPOST /_dash-update-component HTTP/1.1\u001b[0m\" 200 -\n",
      "127.0.0.1 - - [31/Dec/2019 20:47:24] \"\u001b[37mPOST /_dash-update-component HTTP/1.1\u001b[0m\" 200 -\n",
      "127.0.0.1 - - [31/Dec/2019 20:47:24] \"\u001b[37mPOST /_dash-update-component HTTP/1.1\u001b[0m\" 200 -\n",
      "127.0.0.1 - - [31/Dec/2019 20:47:32] \"\u001b[37mPOST /_dash-update-component HTTP/1.1\u001b[0m\" 200 -\n",
      "127.0.0.1 - - [31/Dec/2019 20:47:32] \"\u001b[37mPOST /_dash-update-component HTTP/1.1\u001b[0m\" 200 -\n",
      "127.0.0.1 - - [31/Dec/2019 20:47:32] \"\u001b[37mPOST /_dash-update-component HTTP/1.1\u001b[0m\" 200 -\n",
      "127.0.0.1 - - [31/Dec/2019 20:47:33] \"\u001b[37mPOST /_dash-update-component HTTP/1.1\u001b[0m\" 200 -\n",
      "127.0.0.1 - - [31/Dec/2019 20:47:33] \"\u001b[37mPOST /_dash-update-component HTTP/1.1\u001b[0m\" 200 -\n",
      "127.0.0.1 - - [31/Dec/2019 20:47:35] \"\u001b[37mPOST /_dash-update-component HTTP/1.1\u001b[0m\" 200 -\n"
     ]
    }
   ],
   "source": [
    "if __name__=='__main__':\n",
    "    app.run_server(port=4050)"
   ]
  },
  {
   "cell_type": "markdown",
   "metadata": {},
   "source": [
    "# app.layout = html.Div([\n",
    "    dcc.Location(id='url', refresh=False),\n",
    "    html.Div(id='page-content')\n",
    "])\n",
    "\n",
    "\n",
    "index_page = html.Div([\n",
    "    dcc.Link('Go to Page 1', href='/page-1'),\n",
    "    html.Br(),\n",
    "    dcc.Link('Go to Page 2', href='/page-2'),\n",
    "])\n",
    "\n",
    "page_1_layout = html.Div([\n",
    "    html.H1('Page 1'),\n",
    "    dcc.Dropdown(\n",
    "        id='page-1-dropdown',\n",
    "        options=[{'label': i, 'value': i} for i in ['LA', 'NYC', 'MTL']],\n",
    "        value='LA'\n",
    "    ),\n",
    "    html.Div(id='page-1-content'),\n",
    "    html.Br(),\n",
    "    dcc.Link('Go to Page 2', href='/page-2'),\n",
    "    html.Br(),\n",
    "    dcc.Link('Go back to home', href='/'),\n",
    "])\n",
    "\n",
    "@app.callback(dash.dependencies.Output('page-1-content', 'children'),\n",
    "              [dash.dependencies.Input('page-1-dropdown', 'value')])\n",
    "def page_1_dropdown(value):\n",
    "    return 'You have selected \"{}\"'.format(value)\n",
    "\n",
    "\n",
    "\n",
    "\n",
    "\n",
    "# Update the index\n",
    "@app.callback(dash.dependencies.Output('page-content', 'children'),\n",
    "              [dash.dependencies.Input('url', 'pathname')])\n",
    "def display_page(pathname):\n",
    "    if pathname == '/page-1':\n",
    "        return page_1_layout\n",
    "    elif pathname == '/page-2':\n",
    "        return page_2_layout\n",
    "    else:\n",
    "        return index_page\n",
    "    # You could also return a 404 \"URL not found\" page here\n",
    "\n",
    "\n",
    "if __name__ == '__main__':\n",
    "    app.run_server(debug=True)\n",
    "\n",
    "Dash app with multiple pages"
   ]
  },
  {
   "cell_type": "code",
   "execution_count": 21,
   "metadata": {},
   "outputs": [
    {
     "data": {
      "text/plain": [
       "array(['Barang', 'Jasa Konstruksi', 'Jasa Lainnya', 'Jasa Konsultansi',\n",
       "       'Pekerjaan Konstruksi'], dtype=object)"
      ]
     },
     "execution_count": 21,
     "metadata": {},
     "output_type": "execute_result"
    }
   ],
   "source": [
    "df.loc[df['id']==22319671].head(1)\n",
    "df['jenis'].unique()\n",
    "d = {'Barang, ':'Barang',\n",
    "     'Jasa Lainnya, ':'Jasa Lainnya',\n",
    "     'Jasa Konsultansi, ':'Jasa Konsultansi',\n",
    "     'Pekerjaan Konstruksi, ': 'Jasa Konstruksi'}\n",
    "df = df.replace(d)\n",
    "df['jenis'].unique()"
   ]
  },
  {
   "cell_type": "code",
   "execution_count": null,
   "metadata": {},
   "outputs": [],
   "source": []
  }
 ],
 "metadata": {
  "kernelspec": {
   "display_name": "Python 3",
   "language": "python",
   "name": "python3"
  },
  "language_info": {
   "codemirror_mode": {
    "name": "ipython",
    "version": 3
   },
   "file_extension": ".py",
   "mimetype": "text/x-python",
   "name": "python",
   "nbconvert_exporter": "python",
   "pygments_lexer": "ipython3",
   "version": "3.7.5"
  }
 },
 "nbformat": 4,
 "nbformat_minor": 2
}
